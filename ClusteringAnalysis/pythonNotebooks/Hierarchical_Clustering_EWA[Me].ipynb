{
  "nbformat": 4,
  "nbformat_minor": 0,
  "metadata": {
    "colab": {
      "name": "Hierarchical Clustering EWA[Me].ipynb",
      "provenance": []
    },
    "kernelspec": {
      "name": "python3",
      "display_name": "Python 3"
    }
  },
  "cells": [
    {
      "cell_type": "code",
      "metadata": {
        "id": "UUMMW-tR8E3T",
        "colab_type": "code",
        "colab": {}
      },
      "source": [
        "import numpy as np\n",
        "import pandas as pd\n",
        "import matplotlib.pylab as plt "
      ],
      "execution_count": 0,
      "outputs": []
    },
    {
      "cell_type": "code",
      "metadata": {
        "id": "df3OT1Ql8IMs",
        "colab_type": "code",
        "outputId": "76387a6b-b7dd-4a4c-c723-a33b6dbc62c0",
        "colab": {
          "base_uri": "https://localhost:8080/",
          "height": 204
        }
      },
      "source": [
        "ewa = pd.read_csv(\"EastWestAirlinesCluster.csv\")\n",
        "ewa.iloc[:,[1,6,7,8,9,10]].head()\n"
      ],
      "execution_count": 0,
      "outputs": [
        {
          "output_type": "execute_result",
          "data": {
            "text/html": [
              "<div>\n",
              "<style scoped>\n",
              "    .dataframe tbody tr th:only-of-type {\n",
              "        vertical-align: middle;\n",
              "    }\n",
              "\n",
              "    .dataframe tbody tr th {\n",
              "        vertical-align: top;\n",
              "    }\n",
              "\n",
              "    .dataframe thead th {\n",
              "        text-align: right;\n",
              "    }\n",
              "</style>\n",
              "<table border=\"1\" class=\"dataframe\">\n",
              "  <thead>\n",
              "    <tr style=\"text-align: right;\">\n",
              "      <th></th>\n",
              "      <th>Balance</th>\n",
              "      <th>Bonus_miles</th>\n",
              "      <th>Bonus_trans</th>\n",
              "      <th>Flight_miles_12mo</th>\n",
              "      <th>Flight_trans_12</th>\n",
              "      <th>Days_since_enroll</th>\n",
              "    </tr>\n",
              "  </thead>\n",
              "  <tbody>\n",
              "    <tr>\n",
              "      <th>0</th>\n",
              "      <td>28143</td>\n",
              "      <td>174</td>\n",
              "      <td>1</td>\n",
              "      <td>0</td>\n",
              "      <td>0</td>\n",
              "      <td>7000</td>\n",
              "    </tr>\n",
              "    <tr>\n",
              "      <th>1</th>\n",
              "      <td>19244</td>\n",
              "      <td>215</td>\n",
              "      <td>2</td>\n",
              "      <td>0</td>\n",
              "      <td>0</td>\n",
              "      <td>6968</td>\n",
              "    </tr>\n",
              "    <tr>\n",
              "      <th>2</th>\n",
              "      <td>41354</td>\n",
              "      <td>4123</td>\n",
              "      <td>4</td>\n",
              "      <td>0</td>\n",
              "      <td>0</td>\n",
              "      <td>7034</td>\n",
              "    </tr>\n",
              "    <tr>\n",
              "      <th>3</th>\n",
              "      <td>14776</td>\n",
              "      <td>500</td>\n",
              "      <td>1</td>\n",
              "      <td>0</td>\n",
              "      <td>0</td>\n",
              "      <td>6952</td>\n",
              "    </tr>\n",
              "    <tr>\n",
              "      <th>4</th>\n",
              "      <td>97752</td>\n",
              "      <td>43300</td>\n",
              "      <td>26</td>\n",
              "      <td>2077</td>\n",
              "      <td>4</td>\n",
              "      <td>6935</td>\n",
              "    </tr>\n",
              "  </tbody>\n",
              "</table>\n",
              "</div>"
            ],
            "text/plain": [
              "   Balance  Bonus_miles  ...  Flight_trans_12  Days_since_enroll\n",
              "0    28143          174  ...                0               7000\n",
              "1    19244          215  ...                0               6968\n",
              "2    41354         4123  ...                0               7034\n",
              "3    14776          500  ...                0               6952\n",
              "4    97752        43300  ...                4               6935\n",
              "\n",
              "[5 rows x 6 columns]"
            ]
          },
          "metadata": {
            "tags": []
          },
          "execution_count": 7
        }
      ]
    },
    {
      "cell_type": "code",
      "metadata": {
        "id": "shAxl-Sx8nEO",
        "colab_type": "code",
        "outputId": "ce86df6f-0266-4e9b-d211-0d9df1d287b4",
        "colab": {
          "base_uri": "https://localhost:8080/",
          "height": 419
        }
      },
      "source": [
        "# Normalization function \n",
        "def norm_func(i):\n",
        "    x = (i-i.min())/(i.max() - i.min())\n",
        "    return (x)\n",
        "\n",
        "\n",
        "\n",
        "# Normalized data frame (considering the numerical part of data)\n",
        "df_norm = norm_func(ewa.iloc[:,[1,6,7,8,9,10]])\n",
        "df_norm"
      ],
      "execution_count": 0,
      "outputs": [
        {
          "output_type": "execute_result",
          "data": {
            "text/html": [
              "<div>\n",
              "<style scoped>\n",
              "    .dataframe tbody tr th:only-of-type {\n",
              "        vertical-align: middle;\n",
              "    }\n",
              "\n",
              "    .dataframe tbody tr th {\n",
              "        vertical-align: top;\n",
              "    }\n",
              "\n",
              "    .dataframe thead th {\n",
              "        text-align: right;\n",
              "    }\n",
              "</style>\n",
              "<table border=\"1\" class=\"dataframe\">\n",
              "  <thead>\n",
              "    <tr style=\"text-align: right;\">\n",
              "      <th></th>\n",
              "      <th>Balance</th>\n",
              "      <th>Bonus_miles</th>\n",
              "      <th>Bonus_trans</th>\n",
              "      <th>Flight_miles_12mo</th>\n",
              "      <th>Flight_trans_12</th>\n",
              "      <th>Days_since_enroll</th>\n",
              "    </tr>\n",
              "  </thead>\n",
              "  <tbody>\n",
              "    <tr>\n",
              "      <th>0</th>\n",
              "      <td>0.016508</td>\n",
              "      <td>0.000660</td>\n",
              "      <td>0.011628</td>\n",
              "      <td>0.000000</td>\n",
              "      <td>0.000000</td>\n",
              "      <td>0.843742</td>\n",
              "    </tr>\n",
              "    <tr>\n",
              "      <th>1</th>\n",
              "      <td>0.011288</td>\n",
              "      <td>0.000815</td>\n",
              "      <td>0.023256</td>\n",
              "      <td>0.000000</td>\n",
              "      <td>0.000000</td>\n",
              "      <td>0.839884</td>\n",
              "    </tr>\n",
              "    <tr>\n",
              "      <th>2</th>\n",
              "      <td>0.024257</td>\n",
              "      <td>0.015636</td>\n",
              "      <td>0.046512</td>\n",
              "      <td>0.000000</td>\n",
              "      <td>0.000000</td>\n",
              "      <td>0.847842</td>\n",
              "    </tr>\n",
              "    <tr>\n",
              "      <th>3</th>\n",
              "      <td>0.008667</td>\n",
              "      <td>0.001896</td>\n",
              "      <td>0.011628</td>\n",
              "      <td>0.000000</td>\n",
              "      <td>0.000000</td>\n",
              "      <td>0.837955</td>\n",
              "    </tr>\n",
              "    <tr>\n",
              "      <th>4</th>\n",
              "      <td>0.057338</td>\n",
              "      <td>0.164211</td>\n",
              "      <td>0.302326</td>\n",
              "      <td>0.067398</td>\n",
              "      <td>0.075472</td>\n",
              "      <td>0.835905</td>\n",
              "    </tr>\n",
              "    <tr>\n",
              "      <th>...</th>\n",
              "      <td>...</td>\n",
              "      <td>...</td>\n",
              "      <td>...</td>\n",
              "      <td>...</td>\n",
              "      <td>...</td>\n",
              "      <td>...</td>\n",
              "    </tr>\n",
              "    <tr>\n",
              "      <th>3994</th>\n",
              "      <td>0.010837</td>\n",
              "      <td>0.032330</td>\n",
              "      <td>0.046512</td>\n",
              "      <td>0.006490</td>\n",
              "      <td>0.018868</td>\n",
              "      <td>0.168917</td>\n",
              "    </tr>\n",
              "    <tr>\n",
              "      <th>3995</th>\n",
              "      <td>0.037766</td>\n",
              "      <td>0.003720</td>\n",
              "      <td>0.058140</td>\n",
              "      <td>0.000000</td>\n",
              "      <td>0.000000</td>\n",
              "      <td>0.167953</td>\n",
              "    </tr>\n",
              "    <tr>\n",
              "      <th>3996</th>\n",
              "      <td>0.043169</td>\n",
              "      <td>0.096505</td>\n",
              "      <td>0.093023</td>\n",
              "      <td>0.000000</td>\n",
              "      <td>0.000000</td>\n",
              "      <td>0.168797</td>\n",
              "    </tr>\n",
              "    <tr>\n",
              "      <th>3997</th>\n",
              "      <td>0.032202</td>\n",
              "      <td>0.001896</td>\n",
              "      <td>0.011628</td>\n",
              "      <td>0.016225</td>\n",
              "      <td>0.018868</td>\n",
              "      <td>0.168676</td>\n",
              "    </tr>\n",
              "    <tr>\n",
              "      <th>3998</th>\n",
              "      <td>0.001769</td>\n",
              "      <td>0.000000</td>\n",
              "      <td>0.000000</td>\n",
              "      <td>0.000000</td>\n",
              "      <td>0.000000</td>\n",
              "      <td>0.168314</td>\n",
              "    </tr>\n",
              "  </tbody>\n",
              "</table>\n",
              "<p>3999 rows × 6 columns</p>\n",
              "</div>"
            ],
            "text/plain": [
              "       Balance  Bonus_miles  ...  Flight_trans_12  Days_since_enroll\n",
              "0     0.016508     0.000660  ...         0.000000           0.843742\n",
              "1     0.011288     0.000815  ...         0.000000           0.839884\n",
              "2     0.024257     0.015636  ...         0.000000           0.847842\n",
              "3     0.008667     0.001896  ...         0.000000           0.837955\n",
              "4     0.057338     0.164211  ...         0.075472           0.835905\n",
              "...        ...          ...  ...              ...                ...\n",
              "3994  0.010837     0.032330  ...         0.018868           0.168917\n",
              "3995  0.037766     0.003720  ...         0.000000           0.167953\n",
              "3996  0.043169     0.096505  ...         0.000000           0.168797\n",
              "3997  0.032202     0.001896  ...         0.018868           0.168676\n",
              "3998  0.001769     0.000000  ...         0.000000           0.168314\n",
              "\n",
              "[3999 rows x 6 columns]"
            ]
          },
          "metadata": {
            "tags": []
          },
          "execution_count": 8
        }
      ]
    },
    {
      "cell_type": "code",
      "metadata": {
        "id": "VVipy4jX9lhw",
        "colab_type": "code",
        "colab": {}
      },
      "source": [
        "from scipy.cluster.hierarchy import linkage \n",
        "import scipy.cluster.hierarchy as sch # for creating dendrogram "
      ],
      "execution_count": 0,
      "outputs": []
    },
    {
      "cell_type": "code",
      "metadata": {
        "id": "dnFpcG1m9zx1",
        "colab_type": "code",
        "outputId": "456bb321-62b0-4e5c-f7ab-d8e191c4406c",
        "colab": {
          "base_uri": "https://localhost:8080/",
          "height": 349
        }
      },
      "source": [
        "# Dendogram: Ward Linkage\n",
        "z = linkage(df_norm, method=\"ward\", metric=\"euclidean\")\n",
        "\n",
        "plt.figure(figsize=(15, 5))\n",
        "plt.title('Hierarchical Clustering Dendrogram')\n",
        "plt.xlabel('Index')\n",
        "plt.ylabel('Distance')\n",
        "sch.dendrogram(\n",
        "    z,\n",
        "    leaf_rotation=0.,  # rotates the x axis labels\n",
        "    leaf_font_size=8.,  # font size for the x axis labels\n",
        ")\n",
        "plt.show()"
      ],
      "execution_count": 0,
      "outputs": [
        {
          "output_type": "display_data",
          "data": {
            "image/png": "[encoded data removed]",
            "text/plain": [
              "<Figure size 1080x360 with 1 Axes>"
            ]
          },
          "metadata": {
            "tags": []
          }
        }
      ]
    },
    {
      "cell_type": "code",
      "metadata": {
        "id": "RrYiZA_JClP7",
        "colab_type": "code",
        "outputId": "f153968b-c59a-4c07-f24b-38c09fb33891",
        "colab": {
          "base_uri": "https://localhost:8080/",
          "height": 349
        }
      },
      "source": [
        "# Dendogram: Complete Linkage\n",
        "z = linkage(df_norm, method=\"complete\", metric=\"euclidean\")\n",
        "\n",
        "plt.figure(figsize=(15, 5))\n",
        "plt.title('Hierarchical Clustering Dendrogram')\n",
        "plt.xlabel('Index')\n",
        "plt.ylabel('Distance')\n",
        "sch.dendrogram(\n",
        "    z,\n",
        "    leaf_rotation=0.,  # rotates the x axis labels\n",
        "    leaf_font_size=8.,  # font size for the x axis labels\n",
        ")\n",
        "plt.show()"
      ],
      "execution_count": 0,
      "outputs": [
        {
          "output_type": "display_data",
          "data": {
            "image/png": "[encoded data removed]",
            "text/plain": [
              "<Figure size 1080x360 with 1 Axes>"
            ]
          },
          "metadata": {
            "tags": []
          }
        }
      ]
    },
    {
      "cell_type": "code",
      "metadata": {
        "id": "wHct_szN_RFW",
        "colab_type": "code",
        "outputId": "d7cbc5cf-8134-4889-e3ec-d9f996f75c9d",
        "colab": {
          "base_uri": "https://localhost:8080/",
          "height": 142
        }
      },
      "source": [
        "# Now applying AgglomerativeClustering choosing 2 as clusters from the dendrogram\n",
        "from sklearn.cluster import AgglomerativeClustering \n",
        "h_complete = AgglomerativeClustering(n_clusters=2, linkage='complete', affinity = \"euclidean\").fit(df_norm) \n",
        "h_ward = AgglomerativeClustering(n_clusters=2, linkage='ward', affinity = \"euclidean\").fit(df_norm) \n",
        "\n",
        "cluster_labels_h=pd.Series(h_complete.labels_)\n",
        "cluster_labels_ward=pd.Series(h_ward.labels_)\n",
        "\n",
        "ewa['clust_complete']=cluster_labels_h\n",
        "ewa['clust_ward']=cluster_labels_ward\n",
        "\n",
        "ewa.iloc[:,[1,6,7,8,9,10]].groupby(ewa.clust_ward).mean()"
      ],
      "execution_count": 0,
      "outputs": [
        {
          "output_type": "execute_result",
          "data": {
            "text/html": [
              "<div>\n",
              "<style scoped>\n",
              "    .dataframe tbody tr th:only-of-type {\n",
              "        vertical-align: middle;\n",
              "    }\n",
              "\n",
              "    .dataframe tbody tr th {\n",
              "        vertical-align: top;\n",
              "    }\n",
              "\n",
              "    .dataframe thead th {\n",
              "        text-align: right;\n",
              "    }\n",
              "</style>\n",
              "<table border=\"1\" class=\"dataframe\">\n",
              "  <thead>\n",
              "    <tr style=\"text-align: right;\">\n",
              "      <th></th>\n",
              "      <th>Balance</th>\n",
              "      <th>Bonus_miles</th>\n",
              "      <th>Bonus_trans</th>\n",
              "      <th>Flight_miles_12mo</th>\n",
              "      <th>Flight_trans_12</th>\n",
              "      <th>Days_since_enroll</th>\n",
              "    </tr>\n",
              "    <tr>\n",
              "      <th>clust_ward</th>\n",
              "      <th></th>\n",
              "      <th></th>\n",
              "      <th></th>\n",
              "      <th></th>\n",
              "      <th></th>\n",
              "      <th></th>\n",
              "    </tr>\n",
              "  </thead>\n",
              "  <tbody>\n",
              "    <tr>\n",
              "      <th>0</th>\n",
              "      <td>54507.479638</td>\n",
              "      <td>12365.509804</td>\n",
              "      <td>9.901584</td>\n",
              "      <td>242.050905</td>\n",
              "      <td>0.694947</td>\n",
              "      <td>3005.359351</td>\n",
              "    </tr>\n",
              "    <tr>\n",
              "      <th>1</th>\n",
              "      <td>111193.669636</td>\n",
              "      <td>26554.497402</td>\n",
              "      <td>14.949517</td>\n",
              "      <td>889.268003</td>\n",
              "      <td>2.709725</td>\n",
              "      <td>6310.249443</td>\n",
              "    </tr>\n",
              "  </tbody>\n",
              "</table>\n",
              "</div>"
            ],
            "text/plain": [
              "                  Balance   Bonus_miles  ...  Flight_trans_12  Days_since_enroll\n",
              "clust_ward                               ...                                    \n",
              "0            54507.479638  12365.509804  ...         0.694947        3005.359351\n",
              "1           111193.669636  26554.497402  ...         2.709725        6310.249443\n",
              "\n",
              "[2 rows x 6 columns]"
            ]
          },
          "metadata": {
            "tags": []
          },
          "execution_count": 21
        }
      ]
    },
    {
      "cell_type": "code",
      "metadata": {
        "id": "3DtIx4fBCDVJ",
        "colab_type": "code",
        "outputId": "1e295bc3-f439-40c3-8b88-6225374a0559",
        "colab": {
          "base_uri": "https://localhost:8080/",
          "height": 142
        }
      },
      "source": [
        "ewa.iloc[:,[1,6,7,8,9,10]].groupby(ewa.clust_complete).mean()"
      ],
      "execution_count": 0,
      "outputs": [
        {
          "output_type": "execute_result",
          "data": {
            "text/html": [
              "<div>\n",
              "<style scoped>\n",
              "    .dataframe tbody tr th:only-of-type {\n",
              "        vertical-align: middle;\n",
              "    }\n",
              "\n",
              "    .dataframe tbody tr th {\n",
              "        vertical-align: top;\n",
              "    }\n",
              "\n",
              "    .dataframe thead th {\n",
              "        text-align: right;\n",
              "    }\n",
              "</style>\n",
              "<table border=\"1\" class=\"dataframe\">\n",
              "  <thead>\n",
              "    <tr style=\"text-align: right;\">\n",
              "      <th></th>\n",
              "      <th>Balance</th>\n",
              "      <th>Bonus_miles</th>\n",
              "      <th>Bonus_trans</th>\n",
              "      <th>Flight_miles_12mo</th>\n",
              "      <th>Flight_trans_12</th>\n",
              "      <th>Days_since_enroll</th>\n",
              "    </tr>\n",
              "    <tr>\n",
              "      <th>clust_complete</th>\n",
              "      <th></th>\n",
              "      <th></th>\n",
              "      <th></th>\n",
              "      <th></th>\n",
              "      <th></th>\n",
              "      <th></th>\n",
              "    </tr>\n",
              "  </thead>\n",
              "  <tbody>\n",
              "    <tr>\n",
              "      <th>0</th>\n",
              "      <td>73542.85632</td>\n",
              "      <td>17096.29612</td>\n",
              "      <td>11.54418</td>\n",
              "      <td>440.531414</td>\n",
              "      <td>1.325657</td>\n",
              "      <td>4120.4801</td>\n",
              "    </tr>\n",
              "    <tr>\n",
              "      <th>1</th>\n",
              "      <td>131999.50000</td>\n",
              "      <td>65634.25000</td>\n",
              "      <td>69.25000</td>\n",
              "      <td>19960.000000</td>\n",
              "      <td>49.250000</td>\n",
              "      <td>2200.2500</td>\n",
              "    </tr>\n",
              "  </tbody>\n",
              "</table>\n",
              "</div>"
            ],
            "text/plain": [
              "                     Balance  Bonus_miles  ...  Flight_trans_12  Days_since_enroll\n",
              "clust_complete                             ...                                    \n",
              "0                73542.85632  17096.29612  ...         1.325657          4120.4801\n",
              "1               131999.50000  65634.25000  ...        49.250000          2200.2500\n",
              "\n",
              "[2 rows x 6 columns]"
            ]
          },
          "metadata": {
            "tags": []
          },
          "execution_count": 22
        }
      ]
    }
  ]
}